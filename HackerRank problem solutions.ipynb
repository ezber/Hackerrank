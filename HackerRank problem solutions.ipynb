{
 "cells": [
  {
   "cell_type": "markdown",
   "metadata": {},
   "source": [
    "This notebook contains solutions to medium or hard Hackerrank problems for my reference."
   ]
  },
  {
   "cell_type": "markdown",
   "metadata": {},
   "source": [
    "[Sherlock and the Valid String](https://www.hackerrank.com/challenges/sherlock-and-valid-string/problem) written with PyPy3"
   ]
  },
  {
   "cell_type": "markdown",
   "metadata": {},
   "source": [
    "I decided to populate arrays of length 24; size of english alphabet, and iterate over the populated array to see that the difference in the number of appearance of two different letters is 0 and can be 1 only once."
   ]
  },
  {
   "cell_type": "code",
   "execution_count": 6,
   "metadata": {},
   "outputs": [
    {
     "name": "stdout",
     "output_type": "stream",
     "text": [
      "aaababbnnnoooyuyuyu\n",
      "YES\n"
     ]
    }
   ],
   "source": [
    "erey = input()\n",
    "empty = 26*[0]\n",
    "a = [0]*26\n",
    "j = 0\n",
    "k = 0\n",
    "\n",
    "for i in range(len(erey)):\n",
    "    empty[ord(erey[i])- ord('a')]+=1\n",
    "empty = sorted(empty, reverse = True)\n",
    "empty1 = sorted(empty, reverse = True)\n",
    "empty2 = sorted(empty, reverse = True)\n",
    "\n",
    "a = False\n",
    "b = False\n",
    "\n",
    "for i in range(0,24):\n",
    "    if empty[i] != empty[i+1] and empty[i+1] != 0:\n",
    "        empty1[i] -=1\n",
    "        empty2[i+1] -=1\n",
    "        break\n",
    "\n",
    "for i in range(0,24):\n",
    "    if empty1[i] != empty1[i+1] and empty1[i+1] != 0:\n",
    "        a = True\n",
    "        break\n",
    "for i in range(0, 24):\n",
    "    if empty2[i] != empty2[i + 1] and empty2[i + 1] != 0:\n",
    "        b = True\n",
    "        break\n",
    "\n",
    "if (a and not b) or (not a and b):\n",
    "    indication = 'YES'\n",
    "\n",
    "else:\n",
    "    indication = 'NO'\n",
    "if empty[1] == 0:\n",
    "    indication = 'YES'\n",
    "if empty[1] == empty[25]:\n",
    "    indication = 'YES'\n",
    "\n",
    "count = -1\n",
    "\n",
    "for i in range(25):\n",
    "    if empty[i] != 0:\n",
    "        count +=1\n",
    "if empty[0] == empty[count]:\n",
    "    indication= 'YES'\n",
    "    \n",
    "print(indication)\n"
   ]
  },
  {
   "cell_type": "markdown",
   "metadata": {},
   "source": [
    "[New Year Chaos](https://www.hackerrank.com/challenges/new-year-chaos/problem?h_l=interview&playlist_slugs%5B%5D=interview-preparation-kit&playlist_slugs%5B%5D=arrays) Simply iterate over the string to see if the current value is greater than index + 1 more than 2 units, if it is, the configuration is not possible, else count the bribes."
   ]
  },
  {
   "cell_type": "code",
   "execution_count": 9,
   "metadata": {},
   "outputs": [
    {
     "name": "stdout",
     "output_type": "stream",
     "text": [
      "1\n",
      "4\n",
      "1 4 3 2\n",
      "3\n"
     ]
    }
   ],
   "source": [
    "import math\n",
    "import os\n",
    "import random\n",
    "import re\n",
    "import sys\n",
    "\n",
    "# Complete the minimumBribes function below.\n",
    "def minimumBribes(q):\n",
    "    bribes = 0\n",
    "    for i in range(len(q)-1,-1,-1):\n",
    "        if q[i] > i+1:\n",
    "            diff = q[i] - (i+1)\n",
    "            if diff > 2:\n",
    "                print('Too chaotic')\n",
    "                return\n",
    "        for j in range(max(q[i]-2,0),i):\n",
    "            if q[j] > q[i]:\n",
    "                bribes += 1\n",
    "    print(bribes)\n",
    "    \n",
    "if __name__ == '__main__':\n",
    "    t = int(input())\n",
    "\n",
    "    for t_itr in range(t):\n",
    "        n = int(input())\n",
    "\n",
    "        q = list(map(int, input().rstrip().split()))\n",
    "\n",
    "        minimumBribes(q)\n",
    "\n"
   ]
  },
  {
   "cell_type": "code",
   "execution_count": null,
   "metadata": {},
   "outputs": [],
   "source": []
  }
 ],
 "metadata": {
  "kernelspec": {
   "display_name": "Python 3",
   "language": "python",
   "name": "python3"
  },
  "language_info": {
   "codemirror_mode": {
    "name": "ipython",
    "version": 3
   },
   "file_extension": ".py",
   "mimetype": "text/x-python",
   "name": "python",
   "nbconvert_exporter": "python",
   "pygments_lexer": "ipython3",
   "version": "3.7.3"
  }
 },
 "nbformat": 4,
 "nbformat_minor": 2
}

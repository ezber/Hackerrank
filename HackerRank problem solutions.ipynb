{
 "cells": [
  {
   "cell_type": "markdown",
   "metadata": {},
   "source": [
    "This notebook contains solutions to medium or hard Hackerrank problems for my reference."
   ]
  },
  {
   "cell_type": "markdown",
   "metadata": {},
   "source": [
    "[Sherlock and the Valid String](https://www.hackerrank.com/challenges/sherlock-and-valid-string/problem) written with PyPy3"
   ]
  },
  {
   "cell_type": "markdown",
   "metadata": {},
   "source": [
    "I decided to populate arrays of length 24; size of english alphabet, and iterate over the populated array to see that the difference in the number of appearance of two different letters is 0 and can be 1 only once."
   ]
  },
  {
   "cell_type": "code",
   "execution_count": 6,
   "metadata": {},
   "outputs": [
    {
     "name": "stdout",
     "output_type": "stream",
     "text": [
      "aaababbnnnoooyuyuyu\n",
      "YES\n"
     ]
    }
   ],
   "source": [
    "erey = input()\n",
    "empty = 26*[0]\n",
    "a = [0]*26\n",
    "j = 0\n",
    "k = 0\n",
    "\n",
    "for i in range(len(erey)):\n",
    "    empty[ord(erey[i])- ord('a')]+=1\n",
    "empty = sorted(empty, reverse = True)\n",
    "empty1 = sorted(empty, reverse = True)\n",
    "empty2 = sorted(empty, reverse = True)\n",
    "\n",
    "a = False\n",
    "b = False\n",
    "\n",
    "for i in range(0,24):\n",
    "    if empty[i] != empty[i+1] and empty[i+1] != 0:\n",
    "        empty1[i] -=1\n",
    "        empty2[i+1] -=1\n",
    "        break\n",
    "\n",
    "for i in range(0,24):\n",
    "    if empty1[i] != empty1[i+1] and empty1[i+1] != 0:\n",
    "        a = True\n",
    "        break\n",
    "for i in range(0, 24):\n",
    "    if empty2[i] != empty2[i + 1] and empty2[i + 1] != 0:\n",
    "        b = True\n",
    "        break\n",
    "\n",
    "if (a and not b) or (not a and b):\n",
    "    indication = 'YES'\n",
    "\n",
    "else:\n",
    "    indication = 'NO'\n",
    "if empty[1] == 0:\n",
    "    indication = 'YES'\n",
    "if empty[1] == empty[25]:\n",
    "    indication = 'YES'\n",
    "\n",
    "count = -1\n",
    "\n",
    "for i in range(25):\n",
    "    if empty[i] != 0:\n",
    "        count +=1\n",
    "if empty[0] == empty[count]:\n",
    "    indication= 'YES'\n",
    "    \n",
    "print(indication)\n"
   ]
  },
  {
   "cell_type": "markdown",
   "metadata": {},
   "source": [
    "[New Year Chaos](https://www.hackerrank.com/challenges/new-year-chaos/problem?h_l=interview&playlist_slugs%5B%5D=interview-preparation-kit&playlist_slugs%5B%5D=arrays) Simply iterate over the string to see if the current value is greater than index + 1 more than 2 units, if it is, the configuration is not possible, else count the bribes."
   ]
  },
  {
   "cell_type": "code",
   "execution_count": 12,
   "metadata": {},
   "outputs": [
    {
     "name": "stdout",
     "output_type": "stream",
     "text": [
      "1\n",
      "4\n",
      "1 4 3 2\n",
      "3\n"
     ]
    }
   ],
   "source": [
    "import math\n",
    "import os\n",
    "import random\n",
    "import re\n",
    "import sys\n",
    "\n",
    "# Complete the minimumBribes function below.\n",
    "def minimumBribes(q):\n",
    "    bribes = 0\n",
    "    for i in range(len(q)-1,0,-1):\n",
    "        if q[i] > i+1:\n",
    "            diff = q[i] - (i+1)\n",
    "            if diff > 2:\n",
    "                print('Too chaotic')\n",
    "                return\n",
    "        for j in range(max(q[i]-2,0),i):\n",
    "            if q[j] > q[i]:\n",
    "                bribes += 1\n",
    "    print(bribes)\n",
    "    \n",
    "if __name__ == '__main__':\n",
    "    t = int(input())\n",
    "\n",
    "    for t_itr in range(t):\n",
    "        n = int(input())\n",
    "\n",
    "        q = list(map(int, input().rstrip().split()))\n",
    "\n",
    "        minimumBribes(q)\n",
    "\n"
   ]
  },
  {
   "cell_type": "markdown",
   "metadata": {},
   "source": [
    "[Minimum Swaps 2](https://www.hackerrank.com/challenges/minimum-swaps-2/problem?h_l=interview&playlist_slugs%5B%5D=interview-preparation-kit&playlist_slugs%5B%5D=arrays&h_r=next-challenge&h_v=zen) Loop through the whole array and keep track of the visited array elements; start creating a \"loop\" in the array by jumping on the place where your current array element is supposed to be. Record the swaps and don't revisit the visited elements."
   ]
  },
  {
   "cell_type": "code",
   "execution_count": 23,
   "metadata": {},
   "outputs": [
    {
     "name": "stdout",
     "output_type": "stream",
     "text": [
      "7\n",
      "1 3 5 2 4 6 7\n",
      "3\n"
     ]
    }
   ],
   "source": [
    "#!/bin/python3\n",
    "\n",
    "import math\n",
    "import os\n",
    "import random\n",
    "import re\n",
    "import sys\n",
    "\n",
    "# Complete the minimumSwaps function below.\n",
    "def minimumSwaps(arr):\n",
    "\n",
    "    flag = 0\n",
    "    swaps = 0\n",
    "    tracking = [0]*len(arr)\n",
    "    for i in range(len(arr)):\n",
    "\n",
    "        if arr[i] == i+1:\n",
    "            tracking[i] = 1\n",
    "\n",
    "        elif tracking[i] != 1: #not necessary\n",
    "            tracking[i] = 1\n",
    "            index = arr[i]-1\n",
    "            tracking[index] = 1\n",
    "            while(True):\n",
    "                \n",
    "                swaps += 1\n",
    "                if tracking[arr[index]-1] == 1:\n",
    "                    break\n",
    "                else:\n",
    "                    tracking[arr[index]-1] = 1\n",
    "                    index = arr[arr[index] -1] -1\n",
    "    print(swaps)\n",
    "    return swaps\n",
    "\n",
    "if __name__ == '__main__':\n",
    "    #fptr = open(os.environ['OUTPUT_PATH'], 'w')\n",
    "\n",
    "    n = int(input())\n",
    "\n",
    "    arr = list(map(int, input().rstrip().split()))\n",
    "\n",
    "    res = minimumSwaps(arr)\n",
    "\n",
    "    #fptr.write(str(res) + '\\n')\n",
    "\n",
    "    #fptr.close()"
   ]
  },
  {
   "cell_type": "markdown",
   "metadata": {},
   "source": [
    "[Array Manipulation](https://www.hackerrank.com/challenges/crush/problem?h_l=interview&playlist_slugs%5B%5D=interview-preparation-kit&playlist_slugs%5B%5D=arrays&h_r=next-challenge&h_v=zen&h_r=next-challenge&h_v=zen) The problem is hard only because first method that comes to mind, which uses brute force takes too long to run. The trick is to hold all the information about addition in two indices of the array and perform all additions at once once all the information is recorded into the empty array."
   ]
  },
  {
   "cell_type": "code",
   "execution_count": 27,
   "metadata": {},
   "outputs": [
    {
     "name": "stdout",
     "output_type": "stream",
     "text": [
      "5 3\n",
      "1 2 100\n",
      "2 5 100\n",
      "3 4 100\n",
      "200\n"
     ]
    }
   ],
   "source": [
    "#!/bin/python3\n",
    "\n",
    "import math\n",
    "import os\n",
    "import random\n",
    "import re\n",
    "import sys\n",
    "\n",
    "# Complete the arrayManipulation function below.\n",
    "def arrayManipulation(n, queries):\n",
    "    arr = [0]*(n+1)\n",
    "    cumulative = 0\n",
    "    maximum = 0\n",
    "    for a,b,k in queries:\n",
    "        arr[a-1] += k\n",
    "        arr[b] += -k\n",
    "    \n",
    "    for i in arr:\n",
    "        cumulative += i\n",
    "        if cumulative > maximum:\n",
    "            maximum = cumulative\n",
    "\n",
    "    print(maximum)\n",
    "\n",
    "\n",
    "\n",
    "if __name__ == '__main__':\n",
    "    #fptr = open(os.environ['OUTPUT_PATH'], 'w')\n",
    "\n",
    "    nm = input().split()\n",
    "\n",
    "    n = int(nm[0])\n",
    "\n",
    "    m = int(nm[1])\n",
    "\n",
    "    queries = []\n",
    "\n",
    "    for _ in range(m):\n",
    "        queries.append(list(map(int, input().rstrip().split())))\n",
    "\n",
    "    result = arrayManipulation(n, queries)\n",
    "\n",
    "    #fptr.write(str(result) + '\\n')\n",
    "\n",
    "    #fptr.close()\n"
   ]
  },
  {
   "cell_type": "markdown",
   "metadata": {},
   "source": [
    "[Sparse Arrays](https://www.hackerrank.com/challenges/sparse-arrays/problem) Importing Counter from collections module does the job very robustly."
   ]
  },
  {
   "cell_type": "code",
   "execution_count": 34,
   "metadata": {},
   "outputs": [
    {
     "name": "stdout",
     "output_type": "stream",
     "text": [
      "1\n",
      "aba\n",
      "1\n",
      "aba\n"
     ]
    }
   ],
   "source": [
    "from collections import Counter\n",
    "\n",
    "# Complete the matchingStrings function below.\n",
    "def matchingStrings(strings, queries):\n",
    "    count = Counter(strings) #generate a dictionary of strings contained in strings\n",
    "    return [count[i] for i in queries]\n",
    "\n",
    "if __name__ == '__main__':\n",
    "\n",
    "    strings_count = int(input())\n",
    "\n",
    "    strings = []\n",
    "\n",
    "    for _ in range(strings_count):\n",
    "        strings_item = input()\n",
    "        strings.append(strings_item)\n",
    "\n",
    "    queries_count = int(input())\n",
    "\n",
    "    queries = []\n",
    "\n",
    "    for _ in range(queries_count):\n",
    "        queries_item = input()\n",
    "        queries.append(queries_item)\n",
    "\n",
    "    res = matchingStrings(strings, queries)\n",
    "\n"
   ]
  },
  {
   "cell_type": "markdown",
   "metadata": {},
   "source": [
    "[Is This a Binary Search Tree?](https://www.hackerrank.com/challenges/is-binary-search-tree/problem) A function that calls itself until it reaches to each and every root is necessary. If the 2nd if condition is satisfied for once, the net return (many chained and's) will be False, True otherwise."
   ]
  },
  {
   "cell_type": "code",
   "execution_count": 36,
   "metadata": {},
   "outputs": [],
   "source": [
    "def check_binary_search_tree_(root):\n",
    "    return check_tree(root, -1, 10001)    \n",
    "\n",
    "def check_tree(root, minimum, maximum):\n",
    "    \n",
    "    if not root:\n",
    "        return True\n",
    "    if root.data <= minimum or root.data >= maximum:\n",
    "        return False\n",
    "    return check_tree(root.left, minimum, root.data) and check_tree(root.right, root.data, maximum)\n",
    "        \n",
    "        "
   ]
  },
  {
   "cell_type": "markdown",
   "metadata": {},
   "source": [
    "[Contacts](https://www.hackerrank.com/challenges/contacts/problem) Here is a brute force approach for the solution, a Trie should be used ideally due to high computational costs."
   ]
  },
  {
   "cell_type": "code",
   "execution_count": 43,
   "metadata": {},
   "outputs": [
    {
     "name": "stdout",
     "output_type": "stream",
     "text": [
      "4\n",
      "add hack \n",
      "add hackerrank \n",
      "find hac \n",
      "find hak\n",
      "[2, 0]\n"
     ]
    }
   ],
   "source": [
    "#!/bin/python3\n",
    "\n",
    "import os\n",
    "import sys\n",
    "\n",
    "def contacts(queries):\n",
    "    mylist = []\n",
    "    mydict = {}\n",
    "    amount = []\n",
    "    for i in queries:\n",
    "        if i[0] == 'add':\n",
    "            mylist.append(i[1])\n",
    "        else:\n",
    "            for j in mylist:\n",
    "                if j.startswith(i[1]):\n",
    "                    if i[1] in mydict.keys():\n",
    "                        mydict[i[1]] += 1\n",
    "                    else:\n",
    "                        mydict[i[1]] = 1\n",
    "                else:\n",
    "                    mydict[i[1]] = 0\n",
    "    for k in mydict.keys():\n",
    "        amount.append(mydict[k])\n",
    "    print(amount)\n",
    "\n",
    "\n",
    "if __name__ == '__main__':\n",
    "\n",
    "    queries_rows = int(input())\n",
    "\n",
    "    queries = []\n",
    "\n",
    "    for _ in range(queries_rows):\n",
    "        queries.append(input().rstrip().split())\n",
    "\n",
    "    result = contacts(queries)\n",
    "\n"
   ]
  },
  {
   "cell_type": "markdown",
   "metadata": {},
   "source": [
    "[Jim and the Skyscrapers](https://www.hackerrank.com/challenges/jim-and-the-skyscrapers/problem)"
   ]
  },
  {
   "cell_type": "code",
   "execution_count": null,
   "metadata": {},
   "outputs": [],
   "source": [
    "import os\n",
    "import sys\n",
    "\n",
    "def solve(arr):\n",
    "    empty = []\n",
    "    result = 0\n",
    "    for i in arr:\n",
    "        while len(empty) > 0 and empty[-1][0] < i:\n",
    "            dummy, count = empty.pop()\n",
    "            result += count * (count - 1)\n",
    "        if len(empty) > 0 and empty[-1][0] == i:\n",
    "            empty[-1][1] += 1\n",
    "        else:\n",
    "            empty.append([i, 1])\n",
    "\n",
    "    while len(empty) > 0:\n",
    "        dummy, count = empty.pop()\n",
    "        result += count * (count - 1)\n",
    "\n",
    "    return result\n",
    "\n",
    "if __name__ == '__main__':\n",
    "\n",
    "    arr_count = int(input())\n",
    "\n",
    "    arr = list(map(int, input().rstrip().split()))\n",
    "\n",
    "    result = solve(arr)\n"
   ]
  },
  {
   "cell_type": "markdown",
   "metadata": {},
   "source": [
    "[Cycle Detection](https://www.hackerrank.com/challenges/detect-whether-a-linked-list-contains-a-cycle/problem)"
   ]
  },
  {
   "cell_type": "code",
   "execution_count": 45,
   "metadata": {},
   "outputs": [],
   "source": [
    "#!/bin/python3\n",
    "\n",
    "import math\n",
    "import os\n",
    "import random\n",
    "import re\n",
    "import sys\n",
    "\n",
    "class SinglyLinkedListNode:\n",
    "    def __init__(self, node_data):\n",
    "        self.data = node_data\n",
    "        self.next = None\n",
    "\n",
    "class SinglyLinkedList:\n",
    "    def __init__(self):\n",
    "        self.head = None\n",
    "        self.tail = None\n",
    "\n",
    "    def insert_node(self, node_data):\n",
    "        node = SinglyLinkedListNode(node_data)\n",
    "\n",
    "        if not self.head:\n",
    "            self.head = node\n",
    "        else:\n",
    "            self.tail.next = node\n",
    "\n",
    "\n",
    "        self.tail = node\n",
    "\n",
    "def print_singly_linked_list(node, sep, fptr):\n",
    "    while node:\n",
    "        fptr.write(str(node.data))\n",
    "\n",
    "        node = node.next\n",
    "\n",
    "        if node:\n",
    "            fptr.write(sep)\n",
    "\n",
    "def has_cycle(head):\n",
    "    arr = []\n",
    "    while head:\n",
    "        if head in arr:\n",
    "            return True\n",
    "        else:\n",
    "            arr.append(head)\n",
    "        head=head.next\n",
    "    return False\n"
   ]
  },
  {
   "cell_type": "markdown",
   "metadata": {},
   "source": [
    "[Sorting: Comparator](https://www.hackerrank.com/challenges/ctci-comparator-sorting/problem?h_l=interview&playlist_slugs%5B%5D=interview-preparation-kit&playlist_slugs%5B%5D=sorting)"
   ]
  },
  {
   "cell_type": "code",
   "execution_count": 48,
   "metadata": {},
   "outputs": [
    {
     "name": "stdout",
     "output_type": "stream",
     "text": [
      "5\n"
     ]
    }
   ],
   "source": [
    "from functools import cmp_to_key\n",
    "class Player:\n",
    "    def __init__(self, name, score):\n",
    "        self.name = name\n",
    "        self.score = score\n",
    "    def __repr__(self):\n",
    "        pass\n",
    "\n",
    "    def comparator(a, b):\n",
    "        dif = b.score - a.score\n",
    "        if dif == 0:\n",
    "            if a.name < b.name:\n",
    "                return -1\n",
    "            else:\n",
    "                return 1\n",
    "        return dif\n",
    "\n",
    "n = int(input())"
   ]
  },
  {
   "cell_type": "markdown",
   "metadata": {},
   "source": [
    "[Fraudulent Activity Notifications](https://www.hackerrank.com/challenges/fraudulent-activity-notifications/problem?h_l=interview&playlist_slugs%5B%5D=interview-preparation-kit&playlist_slugs%5B%5D=sorting&h_r=next-challenge&h_v=zen)"
   ]
  },
  {
   "cell_type": "code",
   "execution_count": 49,
   "metadata": {},
   "outputs": [
    {
     "ename": "KeyError",
     "evalue": "'OUTPUT_PATH'",
     "output_type": "error",
     "traceback": [
      "\u001b[0;31m---------------------------------------------------------------------------\u001b[0m",
      "\u001b[0;31mKeyError\u001b[0m                                  Traceback (most recent call last)",
      "\u001b[0;32m<ipython-input-49-b180e00136ca>\u001b[0m in \u001b[0;36m<module>\u001b[0;34m\u001b[0m\n\u001b[1;32m     16\u001b[0m     \u001b[0;32mreturn\u001b[0m \u001b[0mcounter\u001b[0m\u001b[0;34m\u001b[0m\u001b[0;34m\u001b[0m\u001b[0m\n\u001b[1;32m     17\u001b[0m \u001b[0;32mif\u001b[0m \u001b[0m__name__\u001b[0m \u001b[0;34m==\u001b[0m \u001b[0;34m'__main__'\u001b[0m\u001b[0;34m:\u001b[0m\u001b[0;34m\u001b[0m\u001b[0;34m\u001b[0m\u001b[0m\n\u001b[0;32m---> 18\u001b[0;31m     \u001b[0mfptr\u001b[0m \u001b[0;34m=\u001b[0m \u001b[0mopen\u001b[0m\u001b[0;34m(\u001b[0m\u001b[0mos\u001b[0m\u001b[0;34m.\u001b[0m\u001b[0menviron\u001b[0m\u001b[0;34m[\u001b[0m\u001b[0;34m'OUTPUT_PATH'\u001b[0m\u001b[0;34m]\u001b[0m\u001b[0;34m,\u001b[0m \u001b[0;34m'w'\u001b[0m\u001b[0;34m)\u001b[0m\u001b[0;34m\u001b[0m\u001b[0;34m\u001b[0m\u001b[0m\n\u001b[0m\u001b[1;32m     19\u001b[0m \u001b[0;34m\u001b[0m\u001b[0m\n\u001b[1;32m     20\u001b[0m     \u001b[0mnd\u001b[0m \u001b[0;34m=\u001b[0m \u001b[0minput\u001b[0m\u001b[0;34m(\u001b[0m\u001b[0;34m)\u001b[0m\u001b[0;34m.\u001b[0m\u001b[0msplit\u001b[0m\u001b[0;34m(\u001b[0m\u001b[0;34m)\u001b[0m\u001b[0;34m\u001b[0m\u001b[0;34m\u001b[0m\u001b[0m\n",
      "\u001b[0;32m~/anaconda3/lib/python3.7/os.py\u001b[0m in \u001b[0;36m__getitem__\u001b[0;34m(self, key)\u001b[0m\n\u001b[1;32m    676\u001b[0m         \u001b[0;32mexcept\u001b[0m \u001b[0mKeyError\u001b[0m\u001b[0;34m:\u001b[0m\u001b[0;34m\u001b[0m\u001b[0;34m\u001b[0m\u001b[0m\n\u001b[1;32m    677\u001b[0m             \u001b[0;31m# raise KeyError with the original key value\u001b[0m\u001b[0;34m\u001b[0m\u001b[0;34m\u001b[0m\u001b[0;34m\u001b[0m\u001b[0m\n\u001b[0;32m--> 678\u001b[0;31m             \u001b[0;32mraise\u001b[0m \u001b[0mKeyError\u001b[0m\u001b[0;34m(\u001b[0m\u001b[0mkey\u001b[0m\u001b[0;34m)\u001b[0m \u001b[0;32mfrom\u001b[0m \u001b[0;32mNone\u001b[0m\u001b[0;34m\u001b[0m\u001b[0;34m\u001b[0m\u001b[0m\n\u001b[0m\u001b[1;32m    679\u001b[0m         \u001b[0;32mreturn\u001b[0m \u001b[0mself\u001b[0m\u001b[0;34m.\u001b[0m\u001b[0mdecodevalue\u001b[0m\u001b[0;34m(\u001b[0m\u001b[0mvalue\u001b[0m\u001b[0;34m)\u001b[0m\u001b[0;34m\u001b[0m\u001b[0;34m\u001b[0m\u001b[0m\n\u001b[1;32m    680\u001b[0m \u001b[0;34m\u001b[0m\u001b[0m\n",
      "\u001b[0;31mKeyError\u001b[0m: 'OUTPUT_PATH'"
     ]
    }
   ],
   "source": [
    "\n",
    "def activityNotifications(expenditure, d):\n",
    "    initial = 200\n",
    "    counter = 0\n",
    "\n",
    "    count = (initial+1)*[0] \n",
    "\n",
    "    for i in expenditure[:d]:\n",
    "        count[i] += 1    \n",
    "\n",
    "    \n",
    "    if ((d % 2) == 1):\n",
    "        for i in range(d,len(expenditure)):\n",
    "            cumfreq = (initial+1)*[0]\n",
    "            cumfreq[0] = count[0]\n",
    "\n",
    "    return counter\n",
    "if __name__ == '__main__':\n",
    "    fptr = open(os.environ['OUTPUT_PATH'], 'w')\n",
    "\n",
    "    nd = input().split()\n",
    "\n",
    "    n = int(nd[0])\n",
    "\n",
    "    d = int(nd[1])\n",
    "\n",
    "    expenditure = list(map(int, input().rstrip().split()))\n",
    "\n",
    "    result = activityNotifications(expenditure, d)\n",
    "\n",
    "    fptr.write(str(result) + '\\n')\n",
    "\n",
    "    fptr.close()\n"
   ]
  },
  {
   "cell_type": "code",
   "execution_count": null,
   "metadata": {},
   "outputs": [],
   "source": []
  }
 ],
 "metadata": {
  "kernelspec": {
   "display_name": "Python 3",
   "language": "python",
   "name": "python3"
  },
  "language_info": {
   "codemirror_mode": {
    "name": "ipython",
    "version": 3
   },
   "file_extension": ".py",
   "mimetype": "text/x-python",
   "name": "python",
   "nbconvert_exporter": "python",
   "pygments_lexer": "ipython3",
   "version": "3.7.3"
  }
 },
 "nbformat": 4,
 "nbformat_minor": 2
}
